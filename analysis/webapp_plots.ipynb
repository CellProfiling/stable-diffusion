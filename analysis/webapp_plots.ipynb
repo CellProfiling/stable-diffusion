{
 "cells": [
  {
   "cell_type": "code",
   "execution_count": 6,
   "metadata": {},
   "outputs": [],
   "source": [
    "import numpy as np\n",
    "import pandas as pd\n",
    "import matplotlib.pyplot as plt"
   ]
  },
  {
   "cell_type": "code",
   "execution_count": 7,
   "metadata": {},
   "outputs": [],
   "source": [
    "true_45 = pd.read_csv(\"data/processed_45_composed_image_list.txt\")\n",
    "true_35 = pd.read_csv(\"data/processed_35_composed_image_list.txt\")\n",
    "annots = pd.read_csv(\"data/Generative Cell Paint Validation_data.csv\")"
   ]
  },
  {
   "cell_type": "code",
   "execution_count": 8,
   "metadata": {},
   "outputs": [
    {
     "name": "stdout",
     "output_type": "stream",
     "text": [
      "660\n",
      "346\n"
     ]
    }
   ],
   "source": [
    "count = 0\n",
    "correct_list = []\n",
    "for index, row in annots.iterrows():\n",
    "    img = row[\"annotation\"].split(\".jpg\")[0]\n",
    "    model = img.split(\"_s\")[1].split(\"_\")[0]\n",
    "    if model == \"35\": \n",
    "        true = true_35\n",
    "    else:\n",
    "        true = true_45\n",
    "\n",
    "    id = true.index[true[\"image\"]==img].tolist()\n",
    "    assert len(id) == 1\n",
    "    id = id[0]\n",
    "\n",
    "\n",
    "    if row[\"Left\"] == \"N\" and row[\"Right\"] == \"N\": #no submission\n",
    "        correct_list.append(pd.NA)\n",
    "    elif true.loc[id, \"left\"] == \"fake\" and row[\"Left\"] == \"Y\":\n",
    "        count +=1\n",
    "        correct_list.append(1)\n",
    "    elif true.loc[id, \"right\"] == \"fake\" and row[\"Right\"] == \"Y\":\n",
    "        count +=1\n",
    "        correct_list.append(1)\n",
    "    else:\n",
    "        correct_list.append(0)\n",
    "\n",
    "print(len(correct_list))\n",
    "print(count)"
   ]
  },
  {
   "cell_type": "code",
   "execution_count": 9,
   "metadata": {},
   "outputs": [
    {
     "name": "stdout",
     "output_type": "stream",
     "text": [
      "Batch1\n",
      "Batch2\n",
      "Batch3\n",
      "Batch4\n",
      "Batch5\n",
      "Batch6\n"
     ]
    }
   ],
   "source": [
    "results = annots.copy()\n",
    "results[\"correct\"]=correct_list\n",
    "\n",
    "indices_to_drop = []\n",
    "for batch in np.unique(results[\"category\"]):\n",
    "    print(batch)\n",
    "    last_ten = results[results[\"category\"]==batch].index.tolist()[-10:]\n",
    "    indices_to_drop.extend(last_ten)\n",
    "\n",
    "results.drop(indices_to_drop, inplace=True)"
   ]
  },
  {
   "cell_type": "code",
   "execution_count": 12,
   "metadata": {},
   "outputs": [
    {
     "name": "stdout",
     "output_type": "stream",
     "text": [
      "Average correct (single user)\n",
      "156\n",
      "190\n",
      "Number correct (majority vote)\n",
      "53\n",
      "73\n",
      "Number correct (at least one vote)\n",
      "91\n",
      "91\n",
      "Number correct (consensus vote)\n",
      "13\n",
      "26\n"
     ]
    },
    {
     "name": "stderr",
     "output_type": "stream",
     "text": [
      "/var/folders/wt/m4g27yh97r5dybqpyk1rblgw0000gn/T/ipykernel_1817/2103170713.py:9: FutureWarning: Dropping invalid columns in DataFrameGroupBy.mean is deprecated. In a future version, a TypeError will be raised. Before calling .mean, select only columns which should be valid for the function.\n",
      "  results_45_by_img = results_45.groupby('annotation',as_index=False).mean()\n",
      "/var/folders/wt/m4g27yh97r5dybqpyk1rblgw0000gn/T/ipykernel_1817/2103170713.py:10: FutureWarning: Dropping invalid columns in DataFrameGroupBy.mean is deprecated. In a future version, a TypeError will be raised. Before calling .mean, select only columns which should be valid for the function.\n",
      "  results_35_by_img = results_35.groupby('annotation',as_index=False).mean()\n",
      "/var/folders/wt/m4g27yh97r5dybqpyk1rblgw0000gn/T/ipykernel_1817/2103170713.py:11: FutureWarning: Dropping invalid columns in DataFrameGroupBy.mean is deprecated. In a future version, a TypeError will be raised. Before calling .mean, select only columns which should be valid for the function.\n",
      "  results_by_batch = results.groupby('category',as_index=False).mean()\n"
     ]
    },
    {
     "data": {
      "text/html": [
       "<div>\n",
       "<style scoped>\n",
       "    .dataframe tbody tr th:only-of-type {\n",
       "        vertical-align: middle;\n",
       "    }\n",
       "\n",
       "    .dataframe tbody tr th {\n",
       "        vertical-align: top;\n",
       "    }\n",
       "\n",
       "    .dataframe thead th {\n",
       "        text-align: right;\n",
       "    }\n",
       "</style>\n",
       "<table border=\"1\" class=\"dataframe\">\n",
       "  <thead>\n",
       "    <tr style=\"text-align: right;\">\n",
       "      <th></th>\n",
       "      <th>category</th>\n",
       "      <th>correct</th>\n",
       "    </tr>\n",
       "  </thead>\n",
       "  <tbody>\n",
       "    <tr>\n",
       "      <th>0</th>\n",
       "      <td>Batch1</td>\n",
       "      <td>0.680000</td>\n",
       "    </tr>\n",
       "    <tr>\n",
       "      <th>1</th>\n",
       "      <td>Batch2</td>\n",
       "      <td>0.630000</td>\n",
       "    </tr>\n",
       "    <tr>\n",
       "      <th>2</th>\n",
       "      <td>Batch3</td>\n",
       "      <td>0.590000</td>\n",
       "    </tr>\n",
       "    <tr>\n",
       "      <th>3</th>\n",
       "      <td>Batch4</td>\n",
       "      <td>0.500000</td>\n",
       "    </tr>\n",
       "    <tr>\n",
       "      <th>4</th>\n",
       "      <td>Batch5</td>\n",
       "      <td>0.505051</td>\n",
       "    </tr>\n",
       "    <tr>\n",
       "      <th>5</th>\n",
       "      <td>Batch6</td>\n",
       "      <td>0.560000</td>\n",
       "    </tr>\n",
       "  </tbody>\n",
       "</table>\n",
       "</div>"
      ],
      "text/plain": [
       "  category   correct\n",
       "0   Batch1  0.680000\n",
       "1   Batch2  0.630000\n",
       "2   Batch3  0.590000\n",
       "3   Batch4  0.500000\n",
       "4   Batch5  0.505051\n",
       "5   Batch6  0.560000"
      ]
     },
     "metadata": {},
     "output_type": "display_data"
    }
   ],
   "source": [
    "results = results[[\"category\", \"annotation\", \"correct\"]]\n",
    "results_45 = results[results[\"annotation\"].str.contains(\"s45\")]\n",
    "results_35 = results[results[\"annotation\"].str.contains(\"s35\")]\n",
    "\n",
    "print(\"Average correct (single user)\")\n",
    "print(len(results_45[results_45[\"correct\"] == 1]))\n",
    "print(len(results_35[results_35[\"correct\"] == 1]))\n",
    "\n",
    "results_45_by_img = results_45.groupby('annotation',as_index=False).mean()\n",
    "results_35_by_img = results_35.groupby('annotation',as_index=False).mean()\n",
    "results_by_batch = results.groupby('category',as_index=False).mean()\n",
    "\n",
    "print(\"Number correct (majority vote)\")\n",
    "print(len(results_45_by_img[results_45_by_img[\"correct\"] > 0.5]))\n",
    "print(len(results_35_by_img[results_35_by_img[\"correct\"] > 0.5]))\n",
    "\n",
    "print(\"Number correct (at least one vote)\")\n",
    "print(len(results_45_by_img[results_45_by_img[\"correct\"] > 0.3]))\n",
    "print(len(results_35_by_img[results_35_by_img[\"correct\"] > 0.3]))\n",
    "\n",
    "print(\"Number correct (consensus vote)\")\n",
    "print(len(results_45_by_img[results_45_by_img[\"correct\"] > 0.9]))\n",
    "print(len(results_35_by_img[results_35_by_img[\"correct\"] > 0.9]))\n",
    "\n",
    "display(results_by_batch)"
   ]
  }
 ],
 "metadata": {
  "kernelspec": {
   "display_name": "base",
   "language": "python",
   "name": "python3"
  },
  "language_info": {
   "codemirror_mode": {
    "name": "ipython",
    "version": 3
   },
   "file_extension": ".py",
   "mimetype": "text/x-python",
   "name": "python",
   "nbconvert_exporter": "python",
   "pygments_lexer": "ipython3",
   "version": "3.9.12"
  }
 },
 "nbformat": 4,
 "nbformat_minor": 2
}
