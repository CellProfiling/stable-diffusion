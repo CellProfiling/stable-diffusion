{
 "cells": [
  {
   "cell_type": "code",
   "execution_count": 1,
   "metadata": {},
   "outputs": [
    {
     "name": "stderr",
     "output_type": "stream",
     "text": [
      "/Users/zoewefers/miniconda3/lib/python3.9/site-packages/tqdm/auto.py:22: TqdmWarning: IProgress not found. Please update jupyter and ipywidgets. See https://ipywidgets.readthedocs.io/en/stable/user_install.html\n",
      "  from .autonotebook import tqdm as notebook_tqdm\n"
     ]
    }
   ],
   "source": [
    "import numpy as np\n",
    "from PIL import Image\n",
    "import cv2\n",
    "import torch\n"
   ]
  },
  {
   "cell_type": "code",
   "execution_count": 6,
   "metadata": {},
   "outputs": [
    {
     "name": "stdout",
     "output_type": "stream",
     "text": [
      "8323072\n",
      "0\n"
     ]
    }
   ],
   "source": [
    "img = np.array(Image.open(\"fake_8632.png\"))\n",
    "print(np.sum(img[:, :, 2]))\n",
    "img[:, :, 2] = 0\n",
    "print(np.sum(img[:, :, 2]))\n",
    "Image.fromarray(img, \"RGB\").save(\"fake_8632.png\")"
   ]
  },
  {
   "cell_type": "code",
   "execution_count": null,
   "metadata": {},
   "outputs": [],
   "source": [
    "mses_cols = [\"MSE chan \" + str(i) for i in range(mses.shape[1])]\n",
    "mae_cols = [\"MAE chan \" + str(i) for i in range(mses.shape[1])]\n",
    "ssim_cols = [\"SSIM chan \" + str(i) for i in range(mses.shape[1])]\n",
    "iou_cols = [\"IOUs chan \" + str(i) for i in range(mses.shape[1])]\n",
    "pcc_cols = [\"PCC chan \" + str(i) for i in range(mses.shape[1])]\n",
    "edists_cols = [\"Euclidean chan \" + str(i) for i in range(mses.shape[1])]\n",
    "cdists_cols = [\"Cosine chan \" + str(i) for i in range(mses.shape[1])]\n",
    "cols = mses_cols + mae_cols + ssim_cols + iou_cols + pcc_cols + edists_cols + cdists_cols + cdists"
   ]
  },
  {
   "cell_type": "code",
   "execution_count": 11,
   "metadata": {},
   "outputs": [
    {
     "data": {
      "text/plain": [
       "torch.Size([3, 2])"
      ]
     },
     "execution_count": 11,
     "metadata": {},
     "output_type": "execute_result"
    }
   ],
   "source": [
    "t = torch.tensor([[1,2]])\n",
    "a = torch.tensor([[1,1]])\n",
    "b = torch.ones_like(t)*3\n",
    "\n",
    "torch.cat([t,a,b]).size()"
   ]
  },
  {
   "cell_type": "code",
   "execution_count": 27,
   "metadata": {},
   "outputs": [
    {
     "name": "stdout",
     "output_type": "stream",
     "text": [
      "torch.Size([16, 2, 3, 3])\n",
      "torch.Size([16, 2])\n",
      "torch.Size([16, 2, 1, 1])\n",
      "tensor([[0., 0.],\n",
      "        [0., 0.],\n",
      "        [0., 0.],\n",
      "        [0., 0.],\n",
      "        [0., 0.],\n",
      "        [0., 0.],\n",
      "        [0., 0.],\n",
      "        [0., 0.],\n",
      "        [0., 0.],\n",
      "        [0., 0.],\n",
      "        [0., 0.],\n",
      "        [0., 0.],\n",
      "        [0., 0.],\n",
      "        [0., 0.],\n",
      "        [0., 0.],\n",
      "        [0., 0.]])\n"
     ]
    }
   ],
   "source": [
    "t = torch.tensor([[[[1,2,3], [1,2,3], [1,2,3]],[[4,5,6], [4,5,6], [4,5,6]]]])\n",
    "t = t.repeat(16, 1, 1, 1).to(torch.float)\n",
    "m = t.mean(dim=[2,3])\n",
    "print(t.shape)\n",
    "print(m.shape)\n",
    "m = m[:, :, None, None]\n",
    "print(m.shape)\n",
    "diff = t-m\n",
    "print(torch.sum(diff, dim=[2,3]))"
   ]
  },
  {
   "cell_type": "code",
   "execution_count": 3,
   "metadata": {},
   "outputs": [
    {
     "name": "stdout",
     "output_type": "stream",
     "text": [
      "(5, 250, 250)\n"
     ]
    }
   ],
   "source": [
    "\n",
    "cell_paint = []\n",
    "cell_paint.append(np.array(Image.open(\"r07c18f08p01-ch1sk1fk1fl1_2.png\")))\n",
    "cell_paint.append(np.array(Image.open(\"r07c18f08p01-ch2sk1fk1fl1_2.png\")))\n",
    "cell_paint.append(np.array(Image.open(\"r07c18f08p01-ch3sk1fk1fl1_2.png\")))\n",
    "cell_paint.append(np.array(Image.open(\"r07c18f08p01-ch4sk1fk1fl1_2.png\")))\n",
    "cell_paint.append(np.array(Image.open(\"r07c18f08p01-ch5sk1fk1fl1_2.png\")))\n",
    "\n",
    "im = np.array(cell_paint)\n",
    "print(im.shape)"
   ]
  },
  {
   "cell_type": "code",
   "execution_count": 4,
   "metadata": {},
   "outputs": [
    {
     "ename": "error",
     "evalue": "OpenCV(4.9.0) :-1: error: (-5:Bad argument) in function 'resize'\n> Overload resolution failed:\n>  - src is not a numpy array, neither a scalar\n>  - Expected Ptr<cv::UMat> for argument 'src'\n",
     "output_type": "error",
     "traceback": [
      "\u001b[0;31m---------------------------------------------------------------------------\u001b[0m",
      "\u001b[0;31merror\u001b[0m                                     Traceback (most recent call last)",
      "\u001b[0;32m<ipython-input-4-5c23a34ac134>\u001b[0m in \u001b[0;36m<module>\u001b[0;34m\u001b[0m\n\u001b[0;32m----> 1\u001b[0;31m \u001b[0mmasks\u001b[0m \u001b[0;34m=\u001b[0m \u001b[0mcv2\u001b[0m\u001b[0;34m.\u001b[0m\u001b[0mresize\u001b[0m\u001b[0;34m(\u001b[0m\u001b[0mcell_paint\u001b[0m\u001b[0;34m,\u001b[0m \u001b[0mdsize\u001b[0m\u001b[0;34m=\u001b[0m\u001b[0;34m(\u001b[0m\u001b[0;36m256\u001b[0m\u001b[0;34m,\u001b[0m \u001b[0;36m256\u001b[0m\u001b[0;34m)\u001b[0m\u001b[0;34m,\u001b[0m \u001b[0minterpolation\u001b[0m\u001b[0;34m=\u001b[0m\u001b[0mcv2\u001b[0m\u001b[0;34m.\u001b[0m\u001b[0mINTER_NEAREST\u001b[0m\u001b[0;34m)\u001b[0m\u001b[0;34m\u001b[0m\u001b[0;34m\u001b[0m\u001b[0m\n\u001b[0m\u001b[1;32m      2\u001b[0m \u001b[0mprint\u001b[0m\u001b[0;34m(\u001b[0m\u001b[0mmasks\u001b[0m\u001b[0;34m.\u001b[0m\u001b[0mshape\u001b[0m\u001b[0;34m)\u001b[0m\u001b[0;34m\u001b[0m\u001b[0;34m\u001b[0m\u001b[0m\n",
      "\u001b[0;31merror\u001b[0m: OpenCV(4.9.0) :-1: error: (-5:Bad argument) in function 'resize'\n> Overload resolution failed:\n>  - src is not a numpy array, neither a scalar\n>  - Expected Ptr<cv::UMat> for argument 'src'\n"
     ]
    }
   ],
   "source": [
    "masks = cv2.resize(cell_paint, dsize=(256, 256), interpolation=cv2.INTER_NEAREST)\n",
    "print(masks.shape)"
   ]
  },
  {
   "cell_type": "code",
   "execution_count": 33,
   "metadata": {},
   "outputs": [
    {
     "name": "stdout",
     "output_type": "stream",
     "text": [
      "(250, 250)\n",
      "(1, 250, 250)\n",
      "(5, 250, 250)\n"
     ]
    }
   ],
   "source": [
    "single_cell_mask = np.array(labels == 1).astype(np.uint8)\n",
    "print(single_cell_mask.shape)\n",
    "single_cell_mask = np.expand_dims(single_cell_mask,0)\n",
    "print(single_cell_mask.shape)\n",
    "single_cell_mask = np.repeat(single_cell_mask, 5, axis=0)\n",
    "print(single_cell_mask.shape)\n",
    "assert single_cell_mask.shape == (5, 250, 250)\n",
    "\n",
    "#single_cell_mask = single_cell_mask.transpose((1,2,0))\n",
    "#single_cell_mask = cv2.resize(single_cell_mask, dsize=(256, 256), interpolation=cv2.INTER_NEAREST) #resize\n",
    "#single_cell_mask = single_cell_mask.transpose((2,0,1))\n",
    "#assert single_cell_mask.shape == (5, 256, 256)"
   ]
  },
  {
   "cell_type": "code",
   "execution_count": 3,
   "metadata": {},
   "outputs": [
    {
     "data": {
      "image/png": "[encoded data removed]",
      "text/plain": [
       "<Figure size 432x288 with 1 Axes>"
      ]
     },
     "metadata": {
      "needs_background": "light"
     },
     "output_type": "display_data"
    }
   ],
   "source": [
    "plt.imshow(mask)\n",
    "plt.show()"
   ]
  },
  {
   "cell_type": "code",
   "execution_count": 53,
   "metadata": {},
   "outputs": [
    {
     "name": "stdout",
     "output_type": "stream",
     "text": [
      "(250, 250)\n",
      "6\n"
     ]
    }
   ],
   "source": [
    "original_sc_masked = im * single_cell_mask\n",
    "print(original_sc_masked[0].shape)\n",
    "original_dino_list = list(np.concatenate([original_sc_masked, single_cell_mask[0:1, :, :]]))\n",
    "print(len(original_dino_list))\n"
   ]
  },
  {
   "cell_type": "code",
   "execution_count": 51,
   "metadata": {},
   "outputs": [
    {
     "name": "stdout",
     "output_type": "stream",
     "text": [
      "(250, 1500)\n"
     ]
    }
   ],
   "source": [
    "original_dino_format = np.concatenate(original_dino_list, axis=1)\n",
    "print(original_dino_format.shape)"
   ]
  },
  {
   "cell_type": "code",
   "execution_count": 65,
   "metadata": {},
   "outputs": [
    {
     "name": "stdout",
     "output_type": "stream",
     "text": [
      "(2, 256, 256)\n",
      "(3, 256, 256)\n",
      "(3, 256, 256)\n",
      "(5, 256, 256)\n"
     ]
    }
   ],
   "source": [
    "ref = np.array(Image.open(\"ref_13.png\"))[:, :, :-1]\n",
    "ref = np.swapaxes(ref, 0, 2)\n",
    "print(ref.shape)\n",
    "\n",
    "recon = np.array(Image.open(\"fake_13.png\"))\n",
    "recon = np.swapaxes(recon, 0, 2)\n",
    "print(recon.shape)\n",
    "\n",
    "real = np.array(Image.open(\"real_13.png\"))\n",
    "real = np.swapaxes(real, 0, 2)\n",
    "print(real.shape)\n",
    "\n",
    "img = np.concatenate([ref, recon], axis = 0)\n",
    "print(img.shape)\n",
    "\n"
   ]
  },
  {
   "cell_type": "code",
   "execution_count": 63,
   "metadata": {},
   "outputs": [],
   "source": [
    "plt.clf()\n",
    "ref = microshow(ref, cmaps=['pure_yellow', 'pure_blue'])\n",
    "ref.savefig(\"test_ref.png\")"
   ]
  },
  {
   "cell_type": "code",
   "execution_count": 64,
   "metadata": {},
   "outputs": [],
   "source": [
    "plt.clf()\n",
    "recon = microshow(recon, cmaps=['pure_red', 'pure_green', 'pure_blue'])\n",
    "recon.savefig(\"test_recon.png\")"
   ]
  },
  {
   "cell_type": "code",
   "execution_count": 35,
   "metadata": {},
   "outputs": [],
   "source": [
    "# channels: 4, 5, 1, 2, 3, --> ER, DAPI, Mito, AGP, Nucleoli --> Yellow, blue, red, orange, green, \n",
    "\n",
    "microim = microshow(img, cmaps=['pure_yellow', 'pure_blue', 'pure_red', 'pure_magenta', 'pure_green'])\n",
    "\n",
    "microim.savefig(\"test_img.png\")"
   ]
  },
  {
   "cell_type": "code",
   "execution_count": 10,
   "metadata": {},
   "outputs": [
    {
     "data": {
      "text/plain": [
       "<microfilm.microplot.Microimage at 0x7fa621daa580>"
      ]
     },
     "execution_count": 10,
     "metadata": {},
     "output_type": "execute_result"
    }
   ],
   "source": [
    "rand_im = [np.random.randint(0,255, (10,10)) for x in range(5)]\n",
    "\n",
    "mi = microshow(rand_im,cmaps=['pure_red', 'pure_green', 'pure_magenta', 'pure_cyan', 'pure_yellow'])"
   ]
  }
 ],
 "metadata": {
  "kernelspec": {
   "display_name": "Python 3 (ipykernel)",
   "language": "python",
   "name": "python3"
  },
  "language_info": {
   "codemirror_mode": {
    "name": "ipython",
    "version": 3
   },
   "file_extension": ".py",
   "mimetype": "text/x-python",
   "name": "python",
   "nbconvert_exporter": "python",
   "pygments_lexer": "ipython3",
   "version": "3.9.12"
  }
 },
 "nbformat": 4,
 "nbformat_minor": 2
}
