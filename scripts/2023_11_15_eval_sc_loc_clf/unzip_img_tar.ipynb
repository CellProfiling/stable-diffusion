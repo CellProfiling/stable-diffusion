{
 "cells": [
  {
   "cell_type": "code",
   "execution_count": 21,
   "id": "e5ebb6c4-8dcc-45dd-a8fb-407289429043",
   "metadata": {
    "tags": []
   },
   "outputs": [],
   "source": [
    "import os\n",
    "\n",
    "from PIL import Image\n",
    "from tqdm import tqdm\n",
    "import webdataset as wds"
   ]
  },
  {
   "cell_type": "code",
   "execution_count": 4,
   "id": "ff072006-7943-483e-b879-f3aeb1ac58af",
   "metadata": {
    "tags": []
   },
   "outputs": [],
   "source": [
    "HPA_DATA_ROOT = os.environ.get(\"HPA_DATA_ROOT\", \"/data/wei/hpa-webdataset-all-composite\")"
   ]
  },
  {
   "cell_type": "code",
   "execution_count": 5,
   "id": "8928b409-e134-4721-b923-5f01bf7dabb5",
   "metadata": {
    "tags": []
   },
   "outputs": [],
   "source": [
    "url = f\"{HPA_DATA_ROOT}/webdataset_img.tar\"\n",
    "dataset1 = wds.WebDataset(url, nodesplitter=wds.split_by_node).decode().to_tuple(\"__key__\", \"img.pyd\")"
   ]
  },
  {
   "cell_type": "code",
   "execution_count": 23,
   "id": "e1a1ea08-7964-42ca-bc4c-35bb2a33ca51",
   "metadata": {
    "tags": []
   },
   "outputs": [
    {
     "name": "stderr",
     "output_type": "stream",
     "text": [
      "  0%|                                                                                                                                                | 1/247678 [00:00<2:24:07, 28.64it/s]\n"
     ]
    }
   ],
   "source": [
    "c = 0\n",
    "for i, ret in tqdm(enumerate(dataset1), total=247678):\n",
    "    # imgd, infod, embedd = ret\n",
    "    # assert imgd[0] == infod[0] and imgd[0] == embedd[0]\n",
    "    # yield {\"file_path_\": imgd[0], \"image\": imgd[1], \"info\": infod[1], \"embed\": embedd[1]}\n",
    "    arr = ret[1]\n",
    "    im = Image.fromarray(arr)\n",
    "    im.save(f\"{HPA_DATA_ROOT}/images2/{i}.tif\")\n",
    "    c += 1\n",
    "    if c >= 2:\n",
    "        break"
   ]
  },
  {
   "cell_type": "code",
   "execution_count": 19,
   "id": "549d0c90-9786-442c-b24f-a821092ad4bb",
   "metadata": {
    "tags": []
   },
   "outputs": [
    {
     "data": {
      "text/plain": [
       "(1024, 1024, 4)"
      ]
     },
     "execution_count": 19,
     "metadata": {},
     "output_type": "execute_result"
    }
   ],
   "source": [
    "ret[1].shape"
   ]
  }
 ],
 "metadata": {
  "kernelspec": {
   "display_name": "Python [conda env:ldm2]",
   "language": "python",
   "name": "conda-env-ldm2-py"
  },
  "language_info": {
   "codemirror_mode": {
    "name": "ipython",
    "version": 3
   },
   "file_extension": ".py",
   "mimetype": "text/x-python",
   "name": "python",
   "nbconvert_exporter": "python",
   "pygments_lexer": "ipython3",
   "version": "3.8.16"
  }
 },
 "nbformat": 4,
 "nbformat_minor": 5
}
