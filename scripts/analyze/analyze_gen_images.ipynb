{
 "cells": [
  {
   "cell_type": "markdown",
   "id": "d59deb2b-dc10-4650-8f0d-e9ce9284fc62",
   "metadata": {},
   "source": [
    "Plot the distribution of pixel values of both generated and GT images"
   ]
  },
  {
   "cell_type": "code",
   "execution_count": 1,
   "id": "eac6f2a6-02ba-4a26-b115-baa5105554b1",
   "metadata": {
    "tags": []
   },
   "outputs": [],
   "source": [
    "import matplotlib.image as mpimg\n",
    "import matplotlib.pyplot as plt\n",
    "import numpy as np\n",
    "import seaborn as sns\n",
    "import torch\n",
    "import torch.nn.functional as F\n",
    "import torchmetrics"
   ]
  },
  {
   "cell_type": "code",
   "execution_count": null,
   "id": "7f442fb6-feca-4360-b3ea-76520e942864",
   "metadata": {},
   "outputs": [],
   "source": []
  }
 ],
 "metadata": {
  "kernelspec": {
   "display_name": "Python [conda env:ldm]",
   "language": "python",
   "name": "conda-env-ldm-py"
  },
  "language_info": {
   "codemirror_mode": {
    "name": "ipython",
    "version": 3
   },
   "file_extension": ".py",
   "mimetype": "text/x-python",
   "name": "python",
   "nbconvert_exporter": "python",
   "pygments_lexer": "ipython3",
   "version": "3.8.16"
  }
 },
 "nbformat": 4,
 "nbformat_minor": 5
}
