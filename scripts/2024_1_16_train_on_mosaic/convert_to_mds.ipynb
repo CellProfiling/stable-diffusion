{
 "cells": [
  {
   "cell_type": "code",
   "execution_count": 1,
   "id": "9aab80e1-1f92-4fbf-b20a-c1b261cf242c",
   "metadata": {
    "tags": []
   },
   "outputs": [],
   "source": [
    "from streaming.base import MDSWriter\n",
    "from tqdm import tqdm\n",
    "\n",
    "from ldm.data.hpa23 import HPA"
   ]
  },
  {
   "cell_type": "code",
   "execution_count": 2,
   "id": "43006df4-9d02-471b-8bdd-2c604cf57097",
   "metadata": {
    "collapsed": true,
    "jupyter": {
     "outputs_hidden": true
    },
    "tags": []
   },
   "outputs": [
    {
     "name": "stderr",
     "output_type": "stream",
     "text": [
      "Finding images of the same protein: 100%|████████████████████████████████████████████████████████████████████████████████████████████████████████| 73054/73054 [00:01<00:00, 39333.64it/s]\n"
     ]
    },
    {
     "name": "stdout",
     "output_type": "stream",
     "text": [
      "Serializing 73054 elements to byte tensors and concatenating them all ...\n",
      "Serialized dataset takes 1.15 MiB\n",
      "Dataset group: train, length: 73054, image channels: [1 1 1]\n"
     ]
    },
    {
     "data": {
      "text/plain": [
       "{'hpa_index': 373348,\n",
       " 'bbox_label': 1,\n",
       " 'condition_caption': 'NOX3/SH-SY5Y',\n",
       " 'location_caption': 'nan',\n",
       " 'matched_location_classes': array([0., 0., 0., 0., 0., 0., 0., 0., 0., 0., 0., 0., 0., 0., 0., 0., 0.,\n",
       "        0., 1.], dtype=float32),\n",
       " 'image': array([[[-1.       , -1.       , -1.       ],\n",
       "         [-1.       , -1.       , -1.       ],\n",
       "         [-1.       , -1.       , -1.       ],\n",
       "         ...,\n",
       "         [-1.       , -1.       , -1.       ],\n",
       "         [-1.       , -1.       , -1.       ],\n",
       "         [-1.       , -1.       , -1.       ]],\n",
       " \n",
       "        [[-1.       , -1.       , -1.       ],\n",
       "         [-1.       , -1.       , -1.       ],\n",
       "         [-1.       , -1.       , -1.       ],\n",
       "         ...,\n",
       "         [-1.       , -1.       , -1.       ],\n",
       "         [-1.       , -1.       , -1.       ],\n",
       "         [-1.       , -1.       , -1.       ]],\n",
       " \n",
       "        [[-1.       , -1.       , -1.       ],\n",
       "         [-1.       , -1.       , -1.       ],\n",
       "         [-1.       , -1.       , -1.       ],\n",
       "         ...,\n",
       "         [-1.       , -1.       , -1.       ],\n",
       "         [-1.       , -1.       , -1.       ],\n",
       "         [-1.       , -1.       , -1.       ]],\n",
       " \n",
       "        ...,\n",
       " \n",
       "        [[-1.       , -1.       , -1.       ],\n",
       "         [-1.       , -1.       , -1.       ],\n",
       "         [-1.       , -1.       , -1.       ],\n",
       "         ...,\n",
       "         [-1.       , -1.       , -1.       ],\n",
       "         [-1.       , -1.       , -1.       ],\n",
       "         [-0.9843137, -0.9843137, -0.9843137]],\n",
       " \n",
       "        [[-1.       , -1.       , -1.       ],\n",
       "         [-1.       , -1.       , -1.       ],\n",
       "         [-1.       , -1.       , -1.       ],\n",
       "         ...,\n",
       "         [-1.       , -1.       , -1.       ],\n",
       "         [-1.       , -1.       , -1.       ],\n",
       "         [-0.9843137, -0.9843137, -0.9843137]],\n",
       " \n",
       "        [[-1.       , -1.       , -1.       ],\n",
       "         [-1.       , -1.       , -1.       ],\n",
       "         [-1.       , -1.       , -1.       ],\n",
       "         ...,\n",
       "         [-0.8980392, -0.8980392, -0.8980392],\n",
       "         [-1.       , -1.       , -1.       ],\n",
       "         [-1.       , -1.       , -1.       ]]], dtype=float32),\n",
       " 'ref-image': array([[[-1.        , -1.        , -1.        ],\n",
       "         [-1.        , -1.        , -1.        ],\n",
       "         [-1.        , -1.        , -1.        ],\n",
       "         ...,\n",
       "         [-1.        , -1.        , -1.        ],\n",
       "         [-1.        , -1.        , -1.        ],\n",
       "         [-1.        , -1.        , -1.        ]],\n",
       " \n",
       "        [[-1.        , -1.        , -1.        ],\n",
       "         [-1.        , -1.        , -1.        ],\n",
       "         [-1.        , -1.        , -1.        ],\n",
       "         ...,\n",
       "         [-1.        , -1.        , -1.        ],\n",
       "         [-1.        , -1.        , -1.        ],\n",
       "         [-1.        , -1.        , -1.        ]],\n",
       " \n",
       "        [[-1.        , -1.        , -1.        ],\n",
       "         [-1.        , -1.        , -1.        ],\n",
       "         [-1.        , -1.        , -1.        ],\n",
       "         ...,\n",
       "         [-1.        , -1.        , -1.        ],\n",
       "         [-1.        , -1.        , -1.        ],\n",
       "         [-1.        , -1.        , -1.        ]],\n",
       " \n",
       "        ...,\n",
       " \n",
       "        [[-1.        , -1.        , -1.        ],\n",
       "         [-1.        , -1.        , -1.        ],\n",
       "         [-1.        , -1.        , -1.        ],\n",
       "         ...,\n",
       "         [-0.54509807, -0.38039216, -1.        ],\n",
       "         [-0.5921569 , -0.5764706 , -1.        ],\n",
       "         [-0.6156863 , -0.40392157, -1.        ]],\n",
       " \n",
       "        [[-1.        , -1.        , -1.        ],\n",
       "         [-1.        , -1.        , -1.        ],\n",
       "         [-1.        , -1.        , -1.        ],\n",
       "         ...,\n",
       "         [-0.34901962, -0.46666667, -1.        ],\n",
       "         [-0.41960785, -0.69411767, -1.        ],\n",
       "         [-0.4117647 , -0.77254903, -1.        ]],\n",
       " \n",
       "        [[-1.        , -1.        , -1.        ],\n",
       "         [-1.        , -1.        , -1.        ],\n",
       "         [-1.        , -1.        , -1.        ],\n",
       "         ...,\n",
       "         [-0.38039216, -0.09019608, -1.        ],\n",
       "         [-0.41960785, -0.45882353, -1.        ],\n",
       "         [-0.52156866, -0.5529412 , -1.        ]]], dtype=float32),\n",
       " 'mask': array([[0, 0, 0, ..., 0, 0, 0],\n",
       "        [0, 0, 0, ..., 0, 0, 0],\n",
       "        [0, 0, 0, ..., 0, 0, 0],\n",
       "        ...,\n",
       "        [0, 0, 0, ..., 2, 2, 2],\n",
       "        [0, 0, 0, ..., 2, 2, 2],\n",
       "        [0, 0, 0, ..., 2, 2, 2]], dtype=uint8),\n",
       " 'bbox_coords': array([ 85,  57,  86, 142]),\n",
       " 'seq_embed': array([ 0.04642,  0.09015,  0.0273 , ..., -0.00488,  0.00657,  0.01312],\n",
       "       dtype=float16),\n",
       " 'densent_avg': array([ 0.0228811 ,  0.08102626, -0.14024562, ...,  0.10424758,\n",
       "        -0.02922125, -0.14026676], dtype=float32)}"
      ]
     },
     "execution_count": 2,
     "metadata": {},
     "output_type": "execute_result"
    }
   ],
   "source": [
    "dataset = HPA(include_densenet_embedding=\"all\", include_seq_embedding=\"prott5-swissprot\")\n",
    "dataset[0]"
   ]
  },
  {
   "cell_type": "code",
   "execution_count": 3,
   "id": "de23e96d-b3de-4a2d-aee4-885485984391",
   "metadata": {
    "tags": []
   },
   "outputs": [
    {
     "data": {
      "text/plain": [
       "{'hpa_index': numpy.int64,\n",
       " 'bbox_label': numpy.int64,\n",
       " 'condition_caption': str,\n",
       " 'location_caption': str,\n",
       " 'matched_location_classes': numpy.ndarray,\n",
       " 'image': numpy.ndarray,\n",
       " 'ref-image': numpy.ndarray,\n",
       " 'mask': numpy.ndarray,\n",
       " 'bbox_coords': numpy.ndarray,\n",
       " 'seq_embed': numpy.ndarray,\n",
       " 'densent_avg': numpy.ndarray}"
      ]
     },
     "execution_count": 3,
     "metadata": {},
     "output_type": "execute_result"
    }
   ],
   "source": [
    "{k:type(v) for k,v in dataset[0].items()}"
   ]
  },
  {
   "cell_type": "code",
   "execution_count": 4,
   "id": "98728f21-244c-411e-90bd-92046881d403",
   "metadata": {
    "tags": []
   },
   "outputs": [
    {
     "name": "stderr",
     "output_type": "stream",
     "text": [
      "  0%|                                                                                                                                              | 9/1533711 [00:00<22:19:41, 19.08it/s]\n"
     ]
    }
   ],
   "source": [
    "# Local or remote directory path to store the output compressed files.\n",
    "# For remote directory, the output files are automatically upload to a remote cloud storage\n",
    "# location.\n",
    "out_root = 's3://ai-residency-stanford-subcellgenai/super_multiplex_cell/data/hpa23_rescaled_mds'\n",
    "\n",
    "# A dictionary of input fields to an Encoder/Decoder type\n",
    "columns = {'hpa_index': \"int64\",\n",
    " 'bbox_label': \"int64\",\n",
    " 'condition_caption': \"str\",\n",
    " 'location_caption': \"str\",\n",
    " 'matched_location_classes': \"ndarray\",\n",
    " 'image': \"ndarray\",\n",
    " 'ref-image': \"ndarray\",\n",
    " 'mask': \"ndarray\",\n",
    " 'bbox_coords': \"ndarray\",\n",
    " 'densent_avg': \"ndarray\",\n",
    " 'seq_embed': \"ndarray\"}\n",
    "\n",
    "# Compression algorithm name\n",
    "compression = 'zstd'\n",
    "\n",
    "# Hash algorithm name\n",
    "hashes = 'sha1', 'xxh64'\n",
    "\n",
    "# Call `MDSWriter` to iterate through the input data and write into a shard `mds` file\n",
    "c = 0\n",
    "with MDSWriter(out=f\"{out_root}/train_subset\", columns=columns, compression=compression, hashes=hashes) as out:\n",
    "    for sample in tqdm(dataset):\n",
    "        out.write(sample)\n",
    "        c += 1\n",
    "        if c >= 10:\n",
    "            break"
   ]
  },
  {
   "cell_type": "code",
   "execution_count": null,
   "id": "5688b395-2bcf-4231-bae6-870cfe188fd3",
   "metadata": {},
   "outputs": [
    {
     "name": "stdout",
     "output_type": "stream",
     "text": [
      "> \u001b[0;32m/home/users/xikunz2/stable-diffusion/ldm/data/image_processing.py\u001b[0m(112)\u001b[0;36mget_bbox_from_mask\u001b[0;34m()\u001b[0m\n",
      "\u001b[0;32m    110 \u001b[0;31m\u001b[0;34m\u001b[0m\u001b[0m\n",
      "\u001b[0m\u001b[0;32m    111 \u001b[0;31m    \u001b[0;31m# Make sure the object is not in the mask, return None or handle as needed\u001b[0m\u001b[0;34m\u001b[0m\u001b[0;34m\u001b[0m\u001b[0;34m\u001b[0m\u001b[0m\n",
      "\u001b[0m\u001b[0;32m--> 112 \u001b[0;31m    \u001b[0;32massert\u001b[0m \u001b[0mlen\u001b[0m\u001b[0;34m(\u001b[0m\u001b[0mpositions\u001b[0m\u001b[0;34m[\u001b[0m\u001b[0;36m0\u001b[0m\u001b[0;34m]\u001b[0m\u001b[0;34m)\u001b[0m \u001b[0;34m>\u001b[0m \u001b[0;36m0\u001b[0m \u001b[0;32mand\u001b[0m \u001b[0mlen\u001b[0m\u001b[0;34m(\u001b[0m\u001b[0mpositions\u001b[0m\u001b[0;34m[\u001b[0m\u001b[0;36m1\u001b[0m\u001b[0;34m]\u001b[0m\u001b[0;34m)\u001b[0m \u001b[0;34m>\u001b[0m \u001b[0;36m0\u001b[0m\u001b[0;34m\u001b[0m\u001b[0;34m\u001b[0m\u001b[0m\n",
      "\u001b[0m\u001b[0;32m    113 \u001b[0;31m\u001b[0;34m\u001b[0m\u001b[0m\n",
      "\u001b[0m\u001b[0;32m    114 \u001b[0;31m    \u001b[0;31m# Calculate bounding box\u001b[0m\u001b[0;34m\u001b[0m\u001b[0;34m\u001b[0m\u001b[0;34m\u001b[0m\u001b[0m\n",
      "\u001b[0m\n"
     ]
    },
    {
     "name": "stdin",
     "output_type": "stream",
     "text": [
      "ipdb>  positions\n"
     ]
    },
    {
     "name": "stdout",
     "output_type": "stream",
     "text": [
      "(array([], dtype=int64), array([], dtype=int64))\n"
     ]
    },
    {
     "name": "stdin",
     "output_type": "stream",
     "text": [
      "ipdb>  mask\n"
     ]
    },
    {
     "name": "stdout",
     "output_type": "stream",
     "text": [
      "array([[3, 3, 3, ..., 0, 0, 0],\n",
      "       [3, 3, 3, ..., 0, 0, 0],\n",
      "       [3, 3, 3, ..., 0, 0, 0],\n",
      "       ...,\n",
      "       [3, 3, 3, ..., 4, 4, 4],\n",
      "       [3, 3, 3, ..., 4, 4, 4],\n",
      "       [3, 3, 3, ..., 4, 4, 4]], dtype=uint8)\n"
     ]
    },
    {
     "name": "stdin",
     "output_type": "stream",
     "text": [
      "ipdb>  np.unique(mask)\n"
     ]
    },
    {
     "name": "stdout",
     "output_type": "stream",
     "text": [
      "array([0, 3, 4], dtype=uint8)\n"
     ]
    },
    {
     "name": "stdin",
     "output_type": "stream",
     "text": [
      "ipdb>  box_label\n"
     ]
    },
    {
     "name": "stdout",
     "output_type": "stream",
     "text": [
      "*** NameError: name 'box_label' is not defined\n"
     ]
    },
    {
     "name": "stdin",
     "output_type": "stream",
     "text": [
      "ipdb>  bbox_label\n"
     ]
    },
    {
     "name": "stdout",
     "output_type": "stream",
     "text": [
      "5\n"
     ]
    },
    {
     "name": "stdin",
     "output_type": "stream",
     "text": [
      "ipdb>  l\n"
     ]
    },
    {
     "name": "stdout",
     "output_type": "stream",
     "text": [
      "\u001b[1;32m    107 \u001b[0m\u001b[0;32mdef\u001b[0m \u001b[0mget_bbox_from_mask\u001b[0m\u001b[0;34m(\u001b[0m\u001b[0mmask\u001b[0m\u001b[0;34m,\u001b[0m \u001b[0mbbox_label\u001b[0m\u001b[0;34m)\u001b[0m\u001b[0;34m:\u001b[0m\u001b[0;34m\u001b[0m\u001b[0;34m\u001b[0m\u001b[0m\n",
      "\u001b[1;32m    108 \u001b[0m    \u001b[0;31m# Identify the positions of the object in the mask\u001b[0m\u001b[0;34m\u001b[0m\u001b[0;34m\u001b[0m\u001b[0;34m\u001b[0m\u001b[0m\n",
      "\u001b[1;32m    109 \u001b[0m    \u001b[0mpositions\u001b[0m \u001b[0;34m=\u001b[0m \u001b[0mnp\u001b[0m\u001b[0;34m.\u001b[0m\u001b[0mwhere\u001b[0m\u001b[0;34m(\u001b[0m\u001b[0mmask\u001b[0m \u001b[0;34m==\u001b[0m \u001b[0mbbox_label\u001b[0m\u001b[0;34m)\u001b[0m\u001b[0;34m\u001b[0m\u001b[0;34m\u001b[0m\u001b[0m\n",
      "\u001b[1;32m    110 \u001b[0m\u001b[0;34m\u001b[0m\u001b[0m\n",
      "\u001b[1;32m    111 \u001b[0m    \u001b[0;31m# Make sure the object is not in the mask, return None or handle as needed\u001b[0m\u001b[0;34m\u001b[0m\u001b[0;34m\u001b[0m\u001b[0;34m\u001b[0m\u001b[0m\n",
      "\u001b[0;32m--> 112 \u001b[0;31m    \u001b[0;32massert\u001b[0m \u001b[0mlen\u001b[0m\u001b[0;34m(\u001b[0m\u001b[0mpositions\u001b[0m\u001b[0;34m[\u001b[0m\u001b[0;36m0\u001b[0m\u001b[0;34m]\u001b[0m\u001b[0;34m)\u001b[0m \u001b[0;34m>\u001b[0m \u001b[0;36m0\u001b[0m \u001b[0;32mand\u001b[0m \u001b[0mlen\u001b[0m\u001b[0;34m(\u001b[0m\u001b[0mpositions\u001b[0m\u001b[0;34m[\u001b[0m\u001b[0;36m1\u001b[0m\u001b[0;34m]\u001b[0m\u001b[0;34m)\u001b[0m \u001b[0;34m>\u001b[0m \u001b[0;36m0\u001b[0m\u001b[0;34m\u001b[0m\u001b[0;34m\u001b[0m\u001b[0m\n",
      "\u001b[0m\u001b[1;32m    113 \u001b[0m\u001b[0;34m\u001b[0m\u001b[0m\n",
      "\u001b[1;32m    114 \u001b[0m    \u001b[0;31m# Calculate bounding box\u001b[0m\u001b[0;34m\u001b[0m\u001b[0;34m\u001b[0m\u001b[0;34m\u001b[0m\u001b[0m\n",
      "\u001b[1;32m    115 \u001b[0m    \u001b[0mtop\u001b[0m \u001b[0;34m=\u001b[0m \u001b[0mnp\u001b[0m\u001b[0;34m.\u001b[0m\u001b[0mmin\u001b[0m\u001b[0;34m(\u001b[0m\u001b[0mpositions\u001b[0m\u001b[0;34m[\u001b[0m\u001b[0;36m0\u001b[0m\u001b[0;34m]\u001b[0m\u001b[0;34m)\u001b[0m\u001b[0;34m\u001b[0m\u001b[0;34m\u001b[0m\u001b[0m\n",
      "\u001b[1;32m    116 \u001b[0m    \u001b[0mleft\u001b[0m \u001b[0;34m=\u001b[0m \u001b[0mnp\u001b[0m\u001b[0;34m.\u001b[0m\u001b[0mmin\u001b[0m\u001b[0;34m(\u001b[0m\u001b[0mpositions\u001b[0m\u001b[0;34m[\u001b[0m\u001b[0;36m1\u001b[0m\u001b[0;34m]\u001b[0m\u001b[0;34m)\u001b[0m\u001b[0;34m\u001b[0m\u001b[0;34m\u001b[0m\u001b[0m\n",
      "\u001b[1;32m    117 \u001b[0m    \u001b[0mbottom\u001b[0m \u001b[0;34m=\u001b[0m \u001b[0mnp\u001b[0m\u001b[0;34m.\u001b[0m\u001b[0mmax\u001b[0m\u001b[0;34m(\u001b[0m\u001b[0mpositions\u001b[0m\u001b[0;34m[\u001b[0m\u001b[0;36m0\u001b[0m\u001b[0;34m]\u001b[0m\u001b[0;34m)\u001b[0m\u001b[0;34m\u001b[0m\u001b[0;34m\u001b[0m\u001b[0m\n",
      "\n"
     ]
    },
    {
     "name": "stdin",
     "output_type": "stream",
     "text": [
      "ipdb>  u\n"
     ]
    },
    {
     "name": "stdout",
     "output_type": "stream",
     "text": [
      "> \u001b[0;32m/home/users/xikunz2/stable-diffusion/ldm/data/hpa23.py\u001b[0m(156)\u001b[0;36m__getitem__\u001b[0;34m()\u001b[0m\n",
      "\u001b[0;32m    154 \u001b[0;31m        \u001b[0mref_image\u001b[0m \u001b[0;34m=\u001b[0m \u001b[0mimarray\u001b[0m\u001b[0;34m[\u001b[0m\u001b[0;34m:\u001b[0m\u001b[0;34m,\u001b[0m \u001b[0;34m:\u001b[0m\u001b[0;34m,\u001b[0m \u001b[0;34m[\u001b[0m\u001b[0;36m0\u001b[0m\u001b[0;34m,\u001b[0m \u001b[0;36m3\u001b[0m\u001b[0;34m,\u001b[0m \u001b[0;36m2\u001b[0m\u001b[0;34m]\u001b[0m\u001b[0;34m]\u001b[0m \u001b[0;31m# reference channels: MT, ER, DAPI\u001b[0m\u001b[0;34m\u001b[0m\u001b[0;34m\u001b[0m\u001b[0m\n",
      "\u001b[0m\u001b[0;32m    155 \u001b[0;31m        \u001b[0mref_image\u001b[0m \u001b[0;34m=\u001b[0m \u001b[0mimage_processing\u001b[0m\u001b[0;34m.\u001b[0m\u001b[0mconvert_to_minus1_1\u001b[0m\u001b[0;34m(\u001b[0m\u001b[0mref_image\u001b[0m\u001b[0;34m)\u001b[0m\u001b[0;34m\u001b[0m\u001b[0;34m\u001b[0m\u001b[0m\n",
      "\u001b[0m\u001b[0;32m--> 156 \u001b[0;31m        \u001b[0mtop\u001b[0m\u001b[0;34m,\u001b[0m \u001b[0mleft\u001b[0m\u001b[0;34m,\u001b[0m \u001b[0mbottom\u001b[0m\u001b[0;34m,\u001b[0m \u001b[0mright\u001b[0m \u001b[0;34m=\u001b[0m \u001b[0mimage_processing\u001b[0m\u001b[0;34m.\u001b[0m\u001b[0mget_bbox_from_mask\u001b[0m\u001b[0;34m(\u001b[0m\u001b[0mmaskarray\u001b[0m\u001b[0;34m,\u001b[0m \u001b[0mbbox_label\u001b[0m\u001b[0;34m)\u001b[0m\u001b[0;34m\u001b[0m\u001b[0;34m\u001b[0m\u001b[0m\n",
      "\u001b[0m\u001b[0;32m    157 \u001b[0;31m        \u001b[0mbbox_coords\u001b[0m \u001b[0;34m=\u001b[0m \u001b[0mnp\u001b[0m\u001b[0;34m.\u001b[0m\u001b[0marray\u001b[0m\u001b[0;34m(\u001b[0m\u001b[0;34m[\u001b[0m\u001b[0mtop\u001b[0m\u001b[0;34m,\u001b[0m \u001b[0mleft\u001b[0m\u001b[0;34m,\u001b[0m \u001b[0mbottom\u001b[0m \u001b[0;34m-\u001b[0m \u001b[0mtop\u001b[0m\u001b[0;34m,\u001b[0m \u001b[0mright\u001b[0m \u001b[0;34m-\u001b[0m \u001b[0mleft\u001b[0m\u001b[0;34m]\u001b[0m\u001b[0;34m)\u001b[0m\u001b[0;34m\u001b[0m\u001b[0;34m\u001b[0m\u001b[0m\n",
      "\u001b[0m\u001b[0;32m    158 \u001b[0;31m        \u001b[0msample\u001b[0m\u001b[0;34m.\u001b[0m\u001b[0mupdate\u001b[0m\u001b[0;34m(\u001b[0m\u001b[0;34m{\u001b[0m\u001b[0;34m\"image\"\u001b[0m\u001b[0;34m:\u001b[0m \u001b[0mprot_image\u001b[0m\u001b[0;34m,\u001b[0m \u001b[0;34m\"ref-image\"\u001b[0m\u001b[0;34m:\u001b[0m \u001b[0mref_image\u001b[0m\u001b[0;34m,\u001b[0m \u001b[0;34m\"mask\"\u001b[0m\u001b[0;34m:\u001b[0m \u001b[0mmaskarray\u001b[0m\u001b[0;34m,\u001b[0m \u001b[0;34m\"bbox_coords\"\u001b[0m\u001b[0;34m:\u001b[0m \u001b[0mbbox_coords\u001b[0m\u001b[0;34m}\u001b[0m\u001b[0;34m)\u001b[0m\u001b[0;34m\u001b[0m\u001b[0;34m\u001b[0m\u001b[0m\n",
      "\u001b[0m\n"
     ]
    }
   ],
   "source": [
    "import pdb; pdb.pm()"
   ]
  },
  {
   "cell_type": "code",
   "execution_count": null,
   "id": "f5776d1e-28a5-4657-8bf6-32aeda6eaa59",
   "metadata": {},
   "outputs": [],
   "source": []
  }
 ],
 "metadata": {
  "kernelspec": {
   "display_name": "Python [conda env:ldm2]",
   "language": "python",
   "name": "conda-env-ldm2-py"
  },
  "language_info": {
   "codemirror_mode": {
    "name": "ipython",
    "version": 3
   },
   "file_extension": ".py",
   "mimetype": "text/x-python",
   "name": "python",
   "nbconvert_exporter": "python",
   "pygments_lexer": "ipython3",
   "version": "3.8.16"
  }
 },
 "nbformat": 4,
 "nbformat_minor": 5
}
