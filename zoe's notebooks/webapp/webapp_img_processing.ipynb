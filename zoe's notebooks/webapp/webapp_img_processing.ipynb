{
 "cells": [
  {
   "cell_type": "code",
   "execution_count": 18,
   "metadata": {},
   "outputs": [],
   "source": [
    "import glob\n",
    "import numpy as np\n",
    "import matplotlib.pyplot as plt\n",
    "from imageio import imread, imwrite\n",
    "from skimage import exposure\n",
    "from PIL import Image\n"
   ]
  },
  {
   "cell_type": "code",
   "execution_count": 19,
   "metadata": {},
   "outputs": [
    {
     "name": "stdout",
     "output_type": "stream",
     "text": [
      "110\n"
     ]
    }
   ],
   "source": [
    "images = glob.glob(\"/Users/zoewefers/Desktop/2024-02-12T17-47-16_jump__ldm__vq4__ref35__o124__fov512_0.5/good_images/*\")\n",
    "refs = [im for im in images if \"ref\" in im]\n",
    "reals = [im for im in images if \"real\" in im]\n",
    "fakes = [im for im in images if \"fake\" in im]\n",
    "print(len(reals))"
   ]
  },
  {
   "cell_type": "code",
   "execution_count": 20,
   "metadata": {},
   "outputs": [
    {
     "name": "stdout",
     "output_type": "stream",
     "text": [
      "/Users/zoewefers/Desktop/2024-02-12T17-47-16_jump__ldm__vq4__ref35__o124__fov512_0.5/good_images/fake_55.png\n",
      "0\n",
      "1\n",
      "2\n",
      "(256, 256, 3)\n"
     ]
    },
    {
     "name": "stderr",
     "output_type": "stream",
     "text": [
      "/var/folders/wt/m4g27yh97r5dybqpyk1rblgw0000gn/T/ipykernel_5022/3775509495.py:3: DeprecationWarning: Starting with ImageIO v3 the behavior of this function will switch to that of iio.v3.imread. To keep the current behavior (and make this warning disappear) use `import imageio.v2 as imageio` or call `imageio.v2.imread` directly.\n",
      "  imarray = imread(refs[10])\n"
     ]
    }
   ],
   "source": [
    "img = refs[10]\n",
    "print(img)\n",
    "imarray = imread(refs[10])\n",
    "channels = []\n",
    "for i in range(imarray.shape[2]):\n",
    "    print(i)\n",
    "    p0, p99 = np.percentile(imarray[:, :, i], (0, 99))\n",
    "    channels.append(exposure.rescale_intensity(imarray[:, :, i], in_range=(p0, p99), out_range=(0, 255)).astype(np.uint8))\n",
    "\n",
    "imarray = np.transpose(np.array(channels), (1,2,0))\n",
    "print(imarray.shape)\n",
    "Image.fromarray(imarray, 'RGB').save(\"test.png\")\n",
    "\n"
   ]
  }
 ],
 "metadata": {
  "kernelspec": {
   "display_name": "base",
   "language": "python",
   "name": "python3"
  },
  "language_info": {
   "codemirror_mode": {
    "name": "ipython",
    "version": 3
   },
   "file_extension": ".py",
   "mimetype": "text/x-python",
   "name": "python",
   "nbconvert_exporter": "python",
   "pygments_lexer": "ipython3",
   "version": "3.9.12"
  }
 },
 "nbformat": 4,
 "nbformat_minor": 2
}
